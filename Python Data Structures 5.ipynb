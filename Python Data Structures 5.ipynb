{
 "cells": [
  {
   "cell_type": "code",
   "execution_count": 2,
   "metadata": {},
   "outputs": [
    {
     "name": "stdout",
     "output_type": "stream",
     "text": [
      "Enter file:mbox-short.txt\n",
      "cwen@iupui.edu 5\n"
     ]
    }
   ],
   "source": [
    "name = input(\"Enter file:\")\n",
    "if len(name) < 1 : name = \"mbox-short.txt\"\n",
    "handle = open(name)\n",
    "\n",
    "count = 0\n",
    "templist = list()\n",
    "tempdict = dict()\n",
    "bigsender = 0\n",
    "bigsenderqtt = 0\n",
    "\n",
    "for line in handle:\n",
    "    templist = line.split()\n",
    "    if \"From\" in templist :\n",
    "        tempdict[templist[1]] = tempdict.get(templist[1],0) + 1\n",
    "    else : continue\n",
    "\n",
    "for key in tempdict:\n",
    "    if tempdict[key] > bigsenderqtt :\n",
    "        bigsender = key\n",
    "        bigsenderqtt = tempdict[key]\n",
    "        \n",
    "print(bigsender,bigsenderqtt)"
   ]
  },
  {
   "cell_type": "code",
   "execution_count": null,
   "metadata": {},
   "outputs": [],
   "source": []
  }
 ],
 "metadata": {
  "kernelspec": {
   "display_name": "Python 3",
   "language": "python",
   "name": "python3"
  },
  "language_info": {
   "codemirror_mode": {
    "name": "ipython",
    "version": 3
   },
   "file_extension": ".py",
   "mimetype": "text/x-python",
   "name": "python",
   "nbconvert_exporter": "python",
   "pygments_lexer": "ipython3",
   "version": "3.7.4"
  }
 },
 "nbformat": 4,
 "nbformat_minor": 2
}
